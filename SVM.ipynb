{
  "nbformat": 4,
  "nbformat_minor": 0,
  "metadata": {
    "colab": {
      "name": "SVM.ipynb",
      "provenance": [],
      "collapsed_sections": [],
      "machine_shape": "hm"
    },
    "kernelspec": {
      "name": "python3",
      "display_name": "Python 3"
    }
  },
  "cells": [
    {
      "cell_type": "code",
      "metadata": {
        "id": "L7Mk01yfXjbX",
        "colab_type": "code",
        "outputId": "1a4e317e-2cc9-4f10-b360-a68137564b2d",
        "colab": {
          "base_uri": "https://localhost:8080/",
          "height": 35
        }
      },
      "source": [
        "from google.colab import drive\n",
        "drive.mount('/content/drive')"
      ],
      "execution_count": 0,
      "outputs": [
        {
          "output_type": "stream",
          "text": [
            "Drive already mounted at /content/drive; to attempt to forcibly remount, call drive.mount(\"/content/drive\", force_remount=True).\n"
          ],
          "name": "stdout"
        }
      ]
    },
    {
      "cell_type": "code",
      "metadata": {
        "id": "0PhTT3-_c5Gm",
        "colab_type": "code",
        "colab": {}
      },
      "source": [
        "#https://www.linkedin.com/pulse/text-classification-using-bag-words-approach-nltk-scikit-rajendran"
      ],
      "execution_count": 0,
      "outputs": []
    },
    {
      "cell_type": "code",
      "metadata": {
        "id": "YmbgCxsymgwp",
        "colab_type": "code",
        "colab": {}
      },
      "source": [
        "d=[]\n",
        "while(1):\n",
        "  d.append('1')"
      ],
      "execution_count": 0,
      "outputs": []
    },
    {
      "cell_type": "code",
      "metadata": {
        "id": "zwZ5QaW6P4bW",
        "colab_type": "code",
        "colab": {}
      },
      "source": [
        "!pip install jupyter_http_over_ws\n",
        "!jupyter serverextension enable --py jupyter_http_over_ws"
      ],
      "execution_count": 0,
      "outputs": []
    },
    {
      "cell_type": "code",
      "metadata": {
        "id": "UY8rhyWyfMQL",
        "colab_type": "code",
        "colab": {}
      },
      "source": [
        ""
      ],
      "execution_count": 0,
      "outputs": []
    },
    {
      "cell_type": "code",
      "metadata": {
        "id": "w9FbKfzri3_I",
        "colab_type": "code",
        "outputId": "8d18c693-91b6-45a4-a44d-131e9a778ec7",
        "colab": {
          "base_uri": "https://localhost:8080/",
          "height": 408
        }
      },
      "source": [
        "!jupyter notebook \\\n",
        "  --NotebookApp.allow_origin='https://colab.research.google.com' \\\n",
        "  --port=8888 \\\n",
        "  --NotebookApp.port_retries=0"
      ],
      "execution_count": 0,
      "outputs": [
        {
          "output_type": "stream",
          "text": [
            "/usr/local/lib/python2.7/dist-packages/IPython/utils/traitlets.py:5: UserWarning: IPython.utils.traitlets has moved to a top-level traitlets package.\n",
            "  warn(\"IPython.utils.traitlets has moved to a top-level traitlets package.\")\n",
            "Traceback (most recent call last):\n",
            "  File \"/usr/local/bin/jupyter-notebook\", line 8, in <module>\n",
            "    sys.exit(main())\n",
            "  File \"/usr/local/lib/python2.7/dist-packages/jupyter_core/application.py\", line 267, in launch_instance\n",
            "    return super(JupyterApp, cls).launch_instance(argv=argv, **kwargs)\n",
            "  File \"/usr/local/lib/python2.7/dist-packages/traitlets/config/application.py\", line 657, in launch_instance\n",
            "    app.initialize(argv)\n",
            "  File \"</usr/local/lib/python2.7/dist-packages/decorator.pyc:decorator-gen-7>\", line 2, in initialize\n",
            "  File \"/usr/local/lib/python2.7/dist-packages/traitlets/config/application.py\", line 87, in catch_config_error\n",
            "    return method(app, *args, **kwargs)\n",
            "  File \"/usr/local/lib/python2.7/dist-packages/notebook/notebookapp.py\", line 1368, in initialize\n",
            "    self.init_webapp()\n",
            "  File \"/usr/local/lib/python2.7/dist-packages/notebook/notebookapp.py\", line 1188, in init_webapp\n",
            "    self.http_server.listen(port, self.ip)\n",
            "  File \"/usr/local/lib/python2.7/dist-packages/tornado/tcpserver.py\", line 142, in listen\n",
            "    sockets = bind_sockets(port, address=address)\n",
            "  File \"/usr/local/lib/python2.7/dist-packages/tornado/netutil.py\", line 197, in bind_sockets\n",
            "    sock.bind(sockaddr)\n",
            "  File \"/usr/lib/python2.7/socket.py\", line 228, in meth\n",
            "    return getattr(self._sock,name)(*args)\n",
            "socket.error: [Errno 99] Cannot assign requested address\n"
          ],
          "name": "stdout"
        }
      ]
    },
    {
      "cell_type": "code",
      "metadata": {
        "id": "AaitKu0eXmKk",
        "colab_type": "code",
        "outputId": "715cb53f-a672-4318-a290-6b48a12ab6d8",
        "colab": {
          "base_uri": "https://localhost:8080/",
          "height": 35
        }
      },
      "source": [
        "cd /content/drive/My\\ Drive/Colab\\ Notebooks/si650/hw4"
      ],
      "execution_count": 0,
      "outputs": [
        {
          "output_type": "stream",
          "text": [
            "/content/drive/My Drive/Colab Notebooks/si650/hw4\n"
          ],
          "name": "stdout"
        }
      ]
    },
    {
      "cell_type": "code",
      "metadata": {
        "id": "MCM3ooMmXmx9",
        "colab_type": "code",
        "outputId": "0f6b6f64-af31-4b15-82f0-14d092d3ce05",
        "colab": {
          "base_uri": "https://localhost:8080/",
          "height": 70
        }
      },
      "source": [
        "!ls"
      ],
      "execution_count": 0,
      "outputs": [
        {
          "output_type": "stream",
          "text": [
            "'Copy of hw4.ipynb'   sample_submission.csv   test.tsv\n",
            " hw4.ipynb\t      submit.csv\t      train.tsv\n",
            " new_test.csv\t      temp.csv\t\t      Untitled.ipynb\n"
          ],
          "name": "stdout"
        }
      ]
    },
    {
      "cell_type": "code",
      "metadata": {
        "id": "TZxXcYj5Xm0S",
        "colab_type": "code",
        "colab": {}
      },
      "source": [
        "import time\n",
        "import pandas as pd\n",
        "import numpy as np\n",
        "import scipy\n",
        "import nltk\n",
        "from nltk.tokenize import word_tokenize\n",
        "from nltk import pos_tag\n",
        "from nltk.corpus import stopwords\n",
        "from nltk.stem.porter import PorterStemmer\n",
        "from nltk.stem import WordNetLemmatizer\n",
        "from sklearn.preprocessing import LabelEncoder\n",
        "from collections import defaultdict\n",
        "from nltk.corpus import wordnet as wn\n",
        "from sklearn.feature_extraction.text import TfidfVectorizer\n",
        "from sklearn import model_selection, naive_bayes, svm\n",
        "from sklearn.metrics import accuracy_score\n",
        "from sklearn.model_selection import GridSearchCV\n",
        "#from autocorrect import Speller\n",
        "from sklearn.feature_extraction.text import CountVectorizer\n",
        "from sklearn.ensemble import GradientBoostingClassifier\n",
        "from xgboost import XGBClassifier\n",
        "from sklearn.linear_model import LogisticRegression\n",
        "from sklearn.feature_extraction.text import TfidfVectorizer\n",
        "import re"
      ],
      "execution_count": 0,
      "outputs": []
    },
    {
      "cell_type": "code",
      "metadata": {
        "id": "XkKlBAvgYOu1",
        "colab_type": "code",
        "colab": {}
      },
      "source": [
        "np.random.seed(444)"
      ],
      "execution_count": 0,
      "outputs": []
    },
    {
      "cell_type": "code",
      "metadata": {
        "id": "P0NA3207Xm2K",
        "colab_type": "code",
        "outputId": "2e799275-0ea6-4776-8177-3a7ed5932426",
        "colab": {
          "base_uri": "https://localhost:8080/",
          "height": 238
        }
      },
      "source": [
        "nltk.download('wordnet')\n",
        "nltk.download('averaged_perceptron_tagger')\n",
        "nltk.download('stopwords')\n",
        "nltk.download('punkt')\n",
        "!pip install autocorrect\n",
        "!pip install scipy"
      ],
      "execution_count": 0,
      "outputs": [
        {
          "output_type": "stream",
          "text": [
            "[nltk_data] Downloading package wordnet to /root/nltk_data...\n",
            "[nltk_data]   Package wordnet is already up-to-date!\n",
            "[nltk_data] Downloading package averaged_perceptron_tagger to\n",
            "[nltk_data]     /root/nltk_data...\n",
            "[nltk_data]   Package averaged_perceptron_tagger is already up-to-\n",
            "[nltk_data]       date!\n",
            "[nltk_data] Downloading package stopwords to /root/nltk_data...\n",
            "[nltk_data]   Package stopwords is already up-to-date!\n",
            "[nltk_data] Downloading package punkt to /root/nltk_data...\n",
            "[nltk_data]   Package punkt is already up-to-date!\n",
            "Requirement already satisfied: autocorrect in /usr/local/lib/python3.6/dist-packages (0.4.4)\n",
            "Requirement already satisfied: scipy in /usr/local/lib/python3.6/dist-packages (1.3.1)\n",
            "Requirement already satisfied: numpy>=1.13.3 in /usr/local/lib/python3.6/dist-packages (from scipy) (1.17.3)\n"
          ],
          "name": "stdout"
        }
      ]
    },
    {
      "cell_type": "code",
      "metadata": {
        "id": "31j1o-J9YP5K",
        "colab_type": "code",
        "colab": {}
      },
      "source": [
        "df = pd.read_csv('train.tsv', sep='\\t')"
      ],
      "execution_count": 0,
      "outputs": []
    },
    {
      "cell_type": "code",
      "metadata": {
        "id": "g_sIEby1YZvU",
        "colab_type": "code",
        "outputId": "81fac477-fcd1-4ce0-d367-88e34e63e2c2",
        "colab": {
          "base_uri": "https://localhost:8080/",
          "height": 194
        }
      },
      "source": [
        "df.head()"
      ],
      "execution_count": 0,
      "outputs": [
        {
          "output_type": "execute_result",
          "data": {
            "text/html": [
              "<div>\n",
              "<style scoped>\n",
              "    .dataframe tbody tr th:only-of-type {\n",
              "        vertical-align: middle;\n",
              "    }\n",
              "\n",
              "    .dataframe tbody tr th {\n",
              "        vertical-align: top;\n",
              "    }\n",
              "\n",
              "    .dataframe thead th {\n",
              "        text-align: right;\n",
              "    }\n",
              "</style>\n",
              "<table border=\"1\" class=\"dataframe\">\n",
              "  <thead>\n",
              "    <tr style=\"text-align: right;\">\n",
              "      <th></th>\n",
              "      <th>label</th>\n",
              "      <th>text</th>\n",
              "    </tr>\n",
              "  </thead>\n",
              "  <tbody>\n",
              "    <tr>\n",
              "      <th>0</th>\n",
              "      <td>0</td>\n",
              "      <td>NASCAR organized the NASCAR Thunder 100 , a pa...</td>\n",
              "    </tr>\n",
              "    <tr>\n",
              "      <th>1</th>\n",
              "      <td>1</td>\n",
              "      <td>Like its sister project Wikipedia , Wiktionary...</td>\n",
              "    </tr>\n",
              "    <tr>\n",
              "      <th>2</th>\n",
              "      <td>1</td>\n",
              "      <td>There are two ways to combine the many dispara...</td>\n",
              "    </tr>\n",
              "    <tr>\n",
              "      <th>3</th>\n",
              "      <td>1</td>\n",
              "      <td>Rodolphus Agricola , Dutch scholar and humanis...</td>\n",
              "    </tr>\n",
              "    <tr>\n",
              "      <th>4</th>\n",
              "      <td>0</td>\n",
              "      <td>Proxima Centauri was found to share the same p...</td>\n",
              "    </tr>\n",
              "  </tbody>\n",
              "</table>\n",
              "</div>"
            ],
            "text/plain": [
              "   label                                               text\n",
              "0      0  NASCAR organized the NASCAR Thunder 100 , a pa...\n",
              "1      1  Like its sister project Wikipedia , Wiktionary...\n",
              "2      1  There are two ways to combine the many dispara...\n",
              "3      1  Rodolphus Agricola , Dutch scholar and humanis...\n",
              "4      0  Proxima Centauri was found to share the same p..."
            ]
          },
          "metadata": {
            "tags": []
          },
          "execution_count": 9
        }
      ]
    },
    {
      "cell_type": "code",
      "metadata": {
        "id": "Z9LrSLXwYP7S",
        "colab_type": "code",
        "colab": {}
      },
      "source": [
        "df1 = pd.read_csv('test.tsv', sep='\\t', header=0)"
      ],
      "execution_count": 0,
      "outputs": []
    },
    {
      "cell_type": "code",
      "metadata": {
        "id": "51eJWWenYP9h",
        "colab_type": "code",
        "outputId": "21f35d38-ae06-4156-9b24-9814385546a3",
        "colab": {
          "base_uri": "https://localhost:8080/",
          "height": 51
        }
      },
      "source": [
        "%%time\n",
        "i = 0\n",
        "for index,content in df.iterrows():\n",
        "  sms = content['text']\n",
        "  sms = re.sub('[^A-Za-z]', ' ', sms)\n",
        "  sms = sms.lower()\n",
        "  tokenized_sms = word_tokenize(sms)\n",
        "  # for word in tokenized_sms:\n",
        "  #   if word in stopwords.words('english'):\n",
        "  #       tokenized_sms.remove(word)\n",
        "  stemmer = PorterStemmer()\n",
        "  for i in range(len(tokenized_sms)):\n",
        "    tokenized_sms[i] = stemmer.stem(tokenized_sms[i])\n",
        "  sms_text = \" \".join(tokenized_sms)\n",
        "  df.loc[index,'new_text'] = sms_text\n",
        "  i += 1\n",
        "  if i % 10000 == 0:\n",
        "    print(i)"
      ],
      "execution_count": 0,
      "outputs": [
        {
          "output_type": "stream",
          "text": [
            "CPU times: user 3h 51min 44s, sys: 2min 40s, total: 3h 54min 25s\n",
            "Wall time: 3h 54min 37s\n"
          ],
          "name": "stdout"
        }
      ]
    },
    {
      "cell_type": "code",
      "metadata": {
        "id": "OFH7zQdVAhsL",
        "colab_type": "code",
        "outputId": "282b68cb-2be7-4a83-cded-52a7f324cf83",
        "colab": {
          "base_uri": "https://localhost:8080/",
          "height": 163
        }
      },
      "source": [
        "df.to_csv(\"temp.csv\",index=False)"
      ],
      "execution_count": 0,
      "outputs": [
        {
          "output_type": "error",
          "ename": "NameError",
          "evalue": "ignored",
          "traceback": [
            "\u001b[0;31m---------------------------------------------------------------------------\u001b[0m",
            "\u001b[0;31mNameError\u001b[0m                                 Traceback (most recent call last)",
            "\u001b[0;32m<ipython-input-15-6784db19b878>\u001b[0m in \u001b[0;36m<module>\u001b[0;34m()\u001b[0m\n\u001b[0;32m----> 1\u001b[0;31m \u001b[0mdf\u001b[0m\u001b[0;34m.\u001b[0m\u001b[0mto_csv\u001b[0m\u001b[0;34m(\u001b[0m\u001b[0;34m\"temp.csv\"\u001b[0m\u001b[0;34m,\u001b[0m\u001b[0mindex\u001b[0m\u001b[0;34m=\u001b[0m\u001b[0;32mFalse\u001b[0m\u001b[0;34m)\u001b[0m\u001b[0;34m\u001b[0m\u001b[0;34m\u001b[0m\u001b[0m\n\u001b[0m",
            "\u001b[0;31mNameError\u001b[0m: name 'df' is not defined"
          ]
        }
      ]
    },
    {
      "cell_type": "code",
      "metadata": {
        "id": "lb0dTmdOb_36",
        "colab_type": "code",
        "colab": {}
      },
      "source": [
        "df = pd.read_csv(\"temp.csv\")"
      ],
      "execution_count": 0,
      "outputs": []
    },
    {
      "cell_type": "code",
      "metadata": {
        "id": "NaTgK6p5YvwI",
        "colab_type": "code",
        "outputId": "efd924ad-7a87-4d0b-feb9-85fe9cfc1712",
        "colab": {
          "base_uri": "https://localhost:8080/",
          "height": 204
        }
      },
      "source": [
        "# df.drop('Unnamed: 0',axis = 1,inplace = True)\n",
        "df.head()"
      ],
      "execution_count": 0,
      "outputs": [
        {
          "output_type": "execute_result",
          "data": {
            "text/html": [
              "<div>\n",
              "<style scoped>\n",
              "    .dataframe tbody tr th:only-of-type {\n",
              "        vertical-align: middle;\n",
              "    }\n",
              "\n",
              "    .dataframe tbody tr th {\n",
              "        vertical-align: top;\n",
              "    }\n",
              "\n",
              "    .dataframe thead th {\n",
              "        text-align: right;\n",
              "    }\n",
              "</style>\n",
              "<table border=\"1\" class=\"dataframe\">\n",
              "  <thead>\n",
              "    <tr style=\"text-align: right;\">\n",
              "      <th></th>\n",
              "      <th>label</th>\n",
              "      <th>text</th>\n",
              "      <th>new_text</th>\n",
              "    </tr>\n",
              "  </thead>\n",
              "  <tbody>\n",
              "    <tr>\n",
              "      <th>0</th>\n",
              "      <td>0</td>\n",
              "      <td>NASCAR organized the NASCAR Thunder 100 , a pa...</td>\n",
              "      <td>nascar organ nascar thunder pair exhibit lap r...</td>\n",
              "    </tr>\n",
              "    <tr>\n",
              "      <th>1</th>\n",
              "      <td>1</td>\n",
              "      <td>Like its sister project Wikipedia , Wiktionary...</td>\n",
              "      <td>like sister project wikipedia wiktionari run t...</td>\n",
              "    </tr>\n",
              "    <tr>\n",
              "      <th>2</th>\n",
              "      <td>1</td>\n",
              "      <td>There are two ways to combine the many dispara...</td>\n",
              "      <td>are two way combin mani dispar protocol one wa...</td>\n",
              "    </tr>\n",
              "    <tr>\n",
              "      <th>3</th>\n",
              "      <td>1</td>\n",
              "      <td>Rodolphus Agricola , Dutch scholar and humanis...</td>\n",
              "      <td>rodolphu agricola dutch scholar humanist lrb rrb</td>\n",
              "    </tr>\n",
              "    <tr>\n",
              "      <th>4</th>\n",
              "      <td>0</td>\n",
              "      <td>Proxima Centauri was found to share the same p...</td>\n",
              "      <td>proxima centauri found share same proper motio...</td>\n",
              "    </tr>\n",
              "  </tbody>\n",
              "</table>\n",
              "</div>"
            ],
            "text/plain": [
              "   label  ...                                           new_text\n",
              "0      0  ...  nascar organ nascar thunder pair exhibit lap r...\n",
              "1      1  ...  like sister project wikipedia wiktionari run t...\n",
              "2      1  ...  are two way combin mani dispar protocol one wa...\n",
              "3      1  ...   rodolphu agricola dutch scholar humanist lrb rrb\n",
              "4      0  ...  proxima centauri found share same proper motio...\n",
              "\n",
              "[5 rows x 3 columns]"
            ]
          },
          "metadata": {
            "tags": []
          },
          "execution_count": 8
        }
      ]
    },
    {
      "cell_type": "code",
      "metadata": {
        "id": "j7Z4UAXXLv6q",
        "colab_type": "code",
        "outputId": "1cb822ec-d099-420a-8868-d0682bc57c87",
        "colab": {
          "base_uri": "https://localhost:8080/",
          "height": 102
        }
      },
      "source": [
        "print(df.shape)\n",
        "print(df.isnull().sum())"
      ],
      "execution_count": 0,
      "outputs": [
        {
          "output_type": "stream",
          "text": [
            "(416768, 3)\n",
            "label         0\n",
            "text          0\n",
            "new_text    728\n",
            "dtype: int64\n"
          ],
          "name": "stdout"
        }
      ]
    },
    {
      "cell_type": "code",
      "metadata": {
        "id": "40BKkreOZayy",
        "colab_type": "code",
        "colab": {}
      },
      "source": [
        "df.drop('text',axis = 1,inplace=True)"
      ],
      "execution_count": 0,
      "outputs": []
    },
    {
      "cell_type": "code",
      "metadata": {
        "id": "-4lv4Eakcs_r",
        "colab_type": "code",
        "colab": {}
      },
      "source": [
        "for i in df['new_text']:\n",
        "  try:\n",
        "    if len(i) <1:\n",
        "      print(i)\n",
        "  except:\n",
        "    print(i)"
      ],
      "execution_count": 0,
      "outputs": []
    },
    {
      "cell_type": "code",
      "metadata": {
        "id": "y6cOTFlld-f2",
        "colab_type": "code",
        "colab": {}
      },
      "source": [
        "df.dropna(inplace=True)"
      ],
      "execution_count": 0,
      "outputs": []
    },
    {
      "cell_type": "code",
      "metadata": {
        "id": "MQh3Gz_TeCwy",
        "colab_type": "code",
        "outputId": "91349d50-db7a-4159-c4a9-2007fb43e4a7",
        "colab": {
          "base_uri": "https://localhost:8080/",
          "height": 35
        }
      },
      "source": [
        "df.shape"
      ],
      "execution_count": 0,
      "outputs": [
        {
          "output_type": "execute_result",
          "data": {
            "text/plain": [
              "(416040, 2)"
            ]
          },
          "metadata": {
            "tags": []
          },
          "execution_count": 11
        }
      ]
    },
    {
      "cell_type": "code",
      "metadata": {
        "id": "uTEsE5nb9yF-",
        "colab_type": "code",
        "colab": {}
      },
      "source": [
        "df1 = pd.read_csv('train.tsv', sep='\\t')\n",
        "# df1 = pd.read_csv(\"temp.csv\")\n",
        "# df1.dropna(inplace=True)\n",
        "# df1.drop('text',axis = 1,inplace=True)"
      ],
      "execution_count": 0,
      "outputs": []
    },
    {
      "cell_type": "code",
      "metadata": {
        "id": "Jzul1D6L-Up0",
        "colab_type": "code",
        "colab": {}
      },
      "source": [
        "df_test = pd.read_csv('test.tsv', sep='\\t')\n",
        "# df_test = pd.read_csv(\"new_test.csv\")\n",
        "# df_test = pd.read_csv('test.tsv', sep='\\t', header=0)"
      ],
      "execution_count": 0,
      "outputs": []
    },
    {
      "cell_type": "code",
      "metadata": {
        "id": "NG-vU9eM5vgs",
        "colab_type": "code",
        "colab": {}
      },
      "source": [
        "vectorizer = TfidfVectorizer(ngram_range=(1,4),lowercase=False,use_idf = False,max_df=0.6)\n",
        "vectorizer.fit(df1['text'],df_test['text'])\n",
        "X = vectorizer.transform(df1['text'])\n",
        "X_test = vectorizer.transform(df_test['text'])"
      ],
      "execution_count": 0,
      "outputs": []
    },
    {
      "cell_type": "code",
      "metadata": {
        "id": "HhW4teb0Xm-Z",
        "colab_type": "code",
        "colab": {}
      },
      "source": [
        "y = df1['label']\n",
        "\n",
        "# split train and test data\n",
        "from sklearn.model_selection import train_test_split\n",
        "X_train, X_test1, y_train, y_test = train_test_split(X, y,test_size = 0.2)"
      ],
      "execution_count": 0,
      "outputs": []
    },
    {
      "cell_type": "code",
      "metadata": {
        "id": "ypg1f0sVXnAK",
        "colab_type": "code",
        "colab": {}
      },
      "source": [
        "from sklearn.model_selection import cross_validate\n",
        "for i in range(1,10):\n",
        "  SVM = svm.LinearSVC(C = i)\n",
        "  cv_results = cross_validate(SVM, X, y, cv=3)\n",
        "# predict the labels on validation dataset\n",
        "  # predictions_SVM = clf.predict(X_test1)\n",
        "# Use accuracy_score function to get the accuracy\n",
        "  print(i, \"SVM Accuracy Score -> \",cv_results[test_score])"
      ],
      "execution_count": 0,
      "outputs": []
    },
    {
      "cell_type": "code",
      "metadata": {
        "id": "-bAODd9E22mW",
        "colab_type": "code",
        "outputId": "f33e30e9-4b30-40f2-e144-ad04dcd391ca",
        "colab": {
          "base_uri": "https://localhost:8080/",
          "height": 88
        }
      },
      "source": [
        "SVM = svm.LinearSVC(C = 5)\n",
        "SVM.fit(X,y)\n",
        "# predict the labels on validation dataset\n",
        "predictions_SVM = SVM.predict(X_test1)\n",
        "# Use accuracy_score function to get the accuracy\n",
        "print(\"SVM Accuracy Score -> \",accuracy_score(predictions_SVM, y_test)*100)\n",
        "predictions_SVM = SVM.predict(X_test)\n",
        "print(len(predictions_SVM))\n",
        "print(sum(predictions_SVM == 1))\n",
        "print(sum(predictions_SVM == 0))"
      ],
      "execution_count": 0,
      "outputs": [
        {
          "output_type": "stream",
          "text": [
            "SVM Accuracy Score ->  98.6479353120426\n",
            "119092\n",
            "63868\n",
            "55224\n"
          ],
          "name": "stdout"
        }
      ]
    },
    {
      "cell_type": "code",
      "metadata": {
        "id": "JDslKYsz_idu",
        "colab_type": "code",
        "colab": {}
      },
      "source": [
        "submit = pd.DataFrame({\"Id\":df_test['id'],\"Category\":predictions_SVM})\n",
        "submit.to_csv(\"submit.csv\",index= False)"
      ],
      "execution_count": 0,
      "outputs": []
    },
    {
      "cell_type": "code",
      "metadata": {
        "id": "DtsVQpZV_wkX",
        "colab_type": "code",
        "outputId": "09d84cc0-0325-488a-c9f2-260478ba0c05",
        "colab": {
          "base_uri": "https://localhost:8080/",
          "height": 51
        }
      },
      "source": [
        "predictions_SVM = SVM.predict(X_test)\n",
        "len(predictions_SVM)\n",
        "print(sum(predictions_SVM == 1))\n",
        "print(sum(predictions_SVM == 0))"
      ],
      "execution_count": 0,
      "outputs": [
        {
          "output_type": "stream",
          "text": [
            "65494\n",
            "53598\n"
          ],
          "name": "stdout"
        }
      ]
    },
    {
      "cell_type": "code",
      "metadata": {
        "id": "Ksn_g8sdXnB7",
        "colab_type": "code",
        "outputId": "ab06b8be-983b-4f94-f984-0da6eb13771d",
        "colab": {
          "base_uri": "https://localhost:8080/",
          "height": 159
        }
      },
      "source": [
        "for i in range(1,10):\n",
        "  SVM = svm.LinearSVC(C = i)\n",
        "  SVM.fit(X_train,y_train)\n",
        "# predict the labels on validation dataset\n",
        "  predictions_SVM = SVM.predict(X_test1)\n",
        "# Use accuracy_score function to get the accuracy\n",
        "  print(i,\" SVM Accuracy Score -> \",accuracy_score(predictions_SVM, y_test)*100)"
      ],
      "execution_count": 0,
      "outputs": [
        {
          "output_type": "stream",
          "text": [
            "1  SVM Accuracy Score ->  68.01113323895673\n",
            "2  SVM Accuracy Score ->  67.76999304172566\n",
            "3  SVM Accuracy Score ->  67.72680375266934\n",
            "4  SVM Accuracy Score ->  67.6680183314538\n",
            "5  SVM Accuracy Score ->  67.67401684382274\n",
            "6  SVM Accuracy Score ->  67.69441178587711\n",
            "7  SVM Accuracy Score ->  67.69201238092954\n",
            "8  SVM Accuracy Score ->  67.67521654629653\n"
          ],
          "name": "stdout"
        }
      ]
    },
    {
      "cell_type": "code",
      "metadata": {
        "id": "uLtLLt5MNz0Y",
        "colab_type": "code",
        "colab": {}
      },
      "source": [
        "predictions_SVM = SVM.predict(X_test)\n",
        "# Use accuracy_score function to get the accuracy\n",
        "# print(\"SVM Accuracy Score -> \",accuracy_score(predictions_SVM, y_test)*100)"
      ],
      "execution_count": 0,
      "outputs": []
    },
    {
      "cell_type": "code",
      "metadata": {
        "id": "_r-TePe6GEF1",
        "colab_type": "code",
        "outputId": "433c7402-5a44-4509-8846-28942fc920b9",
        "colab": {
          "base_uri": "https://localhost:8080/",
          "height": 88
        }
      },
      "source": [
        "SVM"
      ],
      "execution_count": 0,
      "outputs": [
        {
          "output_type": "execute_result",
          "data": {
            "text/plain": [
              "LinearSVC(C=1.0, class_weight=None, dual=False, fit_intercept=True,\n",
              "          intercept_scaling=1, loss='squared_hinge', max_iter=1000,\n",
              "          multi_class='ovr', penalty='l2', random_state=0, tol=1e-06,\n",
              "          verbose=0)"
            ]
          },
          "metadata": {
            "tags": []
          },
          "execution_count": 16
        }
      ]
    },
    {
      "cell_type": "code",
      "metadata": {
        "id": "RwCtYN-6-y8W",
        "colab_type": "code",
        "colab": {}
      },
      "source": [
        ""
      ],
      "execution_count": 0,
      "outputs": []
    },
    {
      "cell_type": "code",
      "metadata": {
        "id": "XhkXdSgEVXGW",
        "colab_type": "code",
        "colab": {}
      },
      "source": [
        "temp = pd.read_csv('submit.csv')"
      ],
      "execution_count": 0,
      "outputs": []
    },
    {
      "cell_type": "code",
      "metadata": {
        "id": "izoYfKnRVb7e",
        "colab_type": "code",
        "outputId": "2a3fd6f8-5a8f-4f77-b0df-65961e1e0717",
        "colab": {
          "base_uri": "https://localhost:8080/",
          "height": 34
        }
      },
      "source": [
        ""
      ],
      "execution_count": 0,
      "outputs": [
        {
          "output_type": "execute_result",
          "data": {
            "text/plain": [
              "119092"
            ]
          },
          "metadata": {
            "tags": []
          },
          "execution_count": 43
        }
      ]
    },
    {
      "cell_type": "code",
      "metadata": {
        "id": "kMguA2ORFWE1",
        "colab_type": "code",
        "outputId": "24c1bd72-4bba-4a8c-9e56-8e366fe6df3d",
        "colab": {
          "base_uri": "https://localhost:8080/",
          "height": 35
        }
      },
      "source": [
        "predictions_SVM[0:20]"
      ],
      "execution_count": 0,
      "outputs": [
        {
          "output_type": "execute_result",
          "data": {
            "text/plain": [
              "array([1, 0, 1, 0, 0, 0, 0, 1, 1, 1, 0, 0, 1, 1, 1, 0, 1, 0, 0, 0])"
            ]
          },
          "metadata": {
            "tags": []
          },
          "execution_count": 46
        }
      ]
    },
    {
      "cell_type": "code",
      "metadata": {
        "id": "0s7ikbNdXnFa",
        "colab_type": "code",
        "colab": {}
      },
      "source": [
        "num_pos = (df['label']==1).sum()\n",
        "num_neg = (df['label']==0).sum()\n",
        "gb = XGBClassifier(n_estimators = 700, scale_pos_weight = num_neg/num_pos, max_depth = 5)#GradientBoostingClassifier(n_estimators=700, max_depth=5)\n",
        "gb.fit(X_train,y_train)\n",
        "prediction_xgb = gb.predict(X_test)\n",
        "print(\"SVM Accuracy Score -> \",accuracy_score(prediction_xgb, y_test)*100)"
      ],
      "execution_count": 0,
      "outputs": []
    },
    {
      "cell_type": "code",
      "metadata": {
        "id": "FPh9IntyXnHa",
        "colab_type": "code",
        "outputId": "3980e0ee-8efa-43a4-d830-330f3a97258b",
        "colab": {
          "base_uri": "https://localhost:8080/",
          "height": 70
        }
      },
      "source": [
        "model = LogisticRegression()\n",
        "model.fit(X_train,y_train)\n",
        "predict_log = model.predict(X_test)\n",
        "print(\"SVM Accuracy Score -> \",accuracy_score(predict_log, y_test)*100)"
      ],
      "execution_count": 0,
      "outputs": [
        {
          "output_type": "stream",
          "text": [
            "/usr/local/lib/python3.6/dist-packages/sklearn/linear_model/logistic.py:432: FutureWarning: Default solver will be changed to 'lbfgs' in 0.22. Specify a solver to silence this warning.\n",
            "  FutureWarning)\n"
          ],
          "name": "stderr"
        },
        {
          "output_type": "stream",
          "text": [
            "SVM Accuracy Score ->  67.88610069544595\n"
          ],
          "name": "stdout"
        }
      ]
    },
    {
      "cell_type": "code",
      "metadata": {
        "id": "kzIgcBg2XnJS",
        "colab_type": "code",
        "colab": {}
      },
      "source": [
        ""
      ],
      "execution_count": 0,
      "outputs": []
    },
    {
      "cell_type": "code",
      "metadata": {
        "id": "McxFeIXIXnK6",
        "colab_type": "code",
        "colab": {}
      },
      "source": [
        ""
      ],
      "execution_count": 0,
      "outputs": []
    },
    {
      "cell_type": "code",
      "metadata": {
        "id": "1uTfmZzvXnMz",
        "colab_type": "code",
        "colab": {}
      },
      "source": [
        ""
      ],
      "execution_count": 0,
      "outputs": []
    },
    {
      "cell_type": "code",
      "metadata": {
        "id": "J_EUxy_mXnON",
        "colab_type": "code",
        "colab": {}
      },
      "source": [
        ""
      ],
      "execution_count": 0,
      "outputs": []
    }
  ]
}